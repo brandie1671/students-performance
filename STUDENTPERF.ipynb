{
 "cells": [
  {
   "cell_type": "code",
   "execution_count": 57,
   "id": "4e3b11ea",
   "metadata": {},
   "outputs": [],
   "source": [
    "import warnings\n",
    "warnings.filterwarnings('ignore')\n",
    "import pandas as pd\n",
    "import matplotlib.pyplot as plt"
   ]
  },
  {
   "cell_type": "code",
   "execution_count": 58,
   "id": "21099f4a",
   "metadata": {},
   "outputs": [],
   "source": [
    "data = pd.read_csv('StudentsPerformance.csv')"
   ]
  },
  {
   "cell_type": "code",
   "execution_count": 59,
   "id": "163bb45c",
   "metadata": {},
   "outputs": [
    {
     "data": {
      "text/html": [
       "<div>\n",
       "<style scoped>\n",
       "    .dataframe tbody tr th:only-of-type {\n",
       "        vertical-align: middle;\n",
       "    }\n",
       "\n",
       "    .dataframe tbody tr th {\n",
       "        vertical-align: top;\n",
       "    }\n",
       "\n",
       "    .dataframe thead th {\n",
       "        text-align: right;\n",
       "    }\n",
       "</style>\n",
       "<table border=\"1\" class=\"dataframe\">\n",
       "  <thead>\n",
       "    <tr style=\"text-align: right;\">\n",
       "      <th></th>\n",
       "      <th>gender</th>\n",
       "      <th>race/ethnicity</th>\n",
       "      <th>parental level of education</th>\n",
       "      <th>lunch</th>\n",
       "      <th>test preparation course</th>\n",
       "      <th>year one score</th>\n",
       "      <th>year two score</th>\n",
       "      <th>year three score</th>\n",
       "    </tr>\n",
       "  </thead>\n",
       "  <tbody>\n",
       "    <tr>\n",
       "      <th>0</th>\n",
       "      <td>female</td>\n",
       "      <td>group B</td>\n",
       "      <td>bachelor's degree</td>\n",
       "      <td>standard</td>\n",
       "      <td>none</td>\n",
       "      <td>72</td>\n",
       "      <td>72</td>\n",
       "      <td>74</td>\n",
       "    </tr>\n",
       "    <tr>\n",
       "      <th>1</th>\n",
       "      <td>female</td>\n",
       "      <td>group C</td>\n",
       "      <td>some college</td>\n",
       "      <td>standard</td>\n",
       "      <td>completed</td>\n",
       "      <td>69</td>\n",
       "      <td>90</td>\n",
       "      <td>88</td>\n",
       "    </tr>\n",
       "    <tr>\n",
       "      <th>2</th>\n",
       "      <td>female</td>\n",
       "      <td>group B</td>\n",
       "      <td>master's degree</td>\n",
       "      <td>standard</td>\n",
       "      <td>none</td>\n",
       "      <td>90</td>\n",
       "      <td>95</td>\n",
       "      <td>93</td>\n",
       "    </tr>\n",
       "    <tr>\n",
       "      <th>3</th>\n",
       "      <td>male</td>\n",
       "      <td>group A</td>\n",
       "      <td>associate's degree</td>\n",
       "      <td>free/reduced</td>\n",
       "      <td>none</td>\n",
       "      <td>47</td>\n",
       "      <td>57</td>\n",
       "      <td>44</td>\n",
       "    </tr>\n",
       "    <tr>\n",
       "      <th>4</th>\n",
       "      <td>male</td>\n",
       "      <td>group C</td>\n",
       "      <td>some college</td>\n",
       "      <td>standard</td>\n",
       "      <td>none</td>\n",
       "      <td>76</td>\n",
       "      <td>78</td>\n",
       "      <td>75</td>\n",
       "    </tr>\n",
       "  </tbody>\n",
       "</table>\n",
       "</div>"
      ],
      "text/plain": [
       "   gender race/ethnicity parental level of education         lunch  \\\n",
       "0  female        group B           bachelor's degree      standard   \n",
       "1  female        group C                some college      standard   \n",
       "2  female        group B             master's degree      standard   \n",
       "3    male        group A          associate's degree  free/reduced   \n",
       "4    male        group C                some college      standard   \n",
       "\n",
       "  test preparation course  year one score  year two score  year three score  \n",
       "0                    none              72              72                74  \n",
       "1               completed              69              90                88  \n",
       "2                    none              90              95                93  \n",
       "3                    none              47              57                44  \n",
       "4                    none              76              78                75  "
      ]
     },
     "execution_count": 59,
     "metadata": {},
     "output_type": "execute_result"
    }
   ],
   "source": [
    "data.head()"
   ]
  },
  {
   "cell_type": "code",
   "execution_count": 60,
   "id": "8ccf23a1",
   "metadata": {},
   "outputs": [
    {
     "data": {
      "text/html": [
       "<div>\n",
       "<style scoped>\n",
       "    .dataframe tbody tr th:only-of-type {\n",
       "        vertical-align: middle;\n",
       "    }\n",
       "\n",
       "    .dataframe tbody tr th {\n",
       "        vertical-align: top;\n",
       "    }\n",
       "\n",
       "    .dataframe thead th {\n",
       "        text-align: right;\n",
       "    }\n",
       "</style>\n",
       "<table border=\"1\" class=\"dataframe\">\n",
       "  <thead>\n",
       "    <tr style=\"text-align: right;\">\n",
       "      <th></th>\n",
       "      <th>gender</th>\n",
       "      <th>race/ethnicity</th>\n",
       "      <th>parental level of education</th>\n",
       "      <th>lunch</th>\n",
       "      <th>test preparation course</th>\n",
       "      <th>year one score</th>\n",
       "      <th>year two score</th>\n",
       "      <th>year three score</th>\n",
       "    </tr>\n",
       "  </thead>\n",
       "  <tbody>\n",
       "    <tr>\n",
       "      <th>995</th>\n",
       "      <td>female</td>\n",
       "      <td>group E</td>\n",
       "      <td>master's degree</td>\n",
       "      <td>standard</td>\n",
       "      <td>completed</td>\n",
       "      <td>88</td>\n",
       "      <td>99</td>\n",
       "      <td>95</td>\n",
       "    </tr>\n",
       "    <tr>\n",
       "      <th>996</th>\n",
       "      <td>male</td>\n",
       "      <td>group C</td>\n",
       "      <td>high school</td>\n",
       "      <td>free/reduced</td>\n",
       "      <td>none</td>\n",
       "      <td>62</td>\n",
       "      <td>55</td>\n",
       "      <td>55</td>\n",
       "    </tr>\n",
       "    <tr>\n",
       "      <th>997</th>\n",
       "      <td>female</td>\n",
       "      <td>group C</td>\n",
       "      <td>high school</td>\n",
       "      <td>free/reduced</td>\n",
       "      <td>completed</td>\n",
       "      <td>59</td>\n",
       "      <td>71</td>\n",
       "      <td>65</td>\n",
       "    </tr>\n",
       "    <tr>\n",
       "      <th>998</th>\n",
       "      <td>female</td>\n",
       "      <td>group D</td>\n",
       "      <td>some college</td>\n",
       "      <td>standard</td>\n",
       "      <td>completed</td>\n",
       "      <td>68</td>\n",
       "      <td>78</td>\n",
       "      <td>77</td>\n",
       "    </tr>\n",
       "    <tr>\n",
       "      <th>999</th>\n",
       "      <td>female</td>\n",
       "      <td>group D</td>\n",
       "      <td>some college</td>\n",
       "      <td>free/reduced</td>\n",
       "      <td>none</td>\n",
       "      <td>77</td>\n",
       "      <td>86</td>\n",
       "      <td>86</td>\n",
       "    </tr>\n",
       "  </tbody>\n",
       "</table>\n",
       "</div>"
      ],
      "text/plain": [
       "     gender race/ethnicity parental level of education         lunch  \\\n",
       "995  female        group E             master's degree      standard   \n",
       "996    male        group C                 high school  free/reduced   \n",
       "997  female        group C                 high school  free/reduced   \n",
       "998  female        group D                some college      standard   \n",
       "999  female        group D                some college  free/reduced   \n",
       "\n",
       "    test preparation course  year one score  year two score  year three score  \n",
       "995               completed              88              99                95  \n",
       "996                    none              62              55                55  \n",
       "997               completed              59              71                65  \n",
       "998               completed              68              78                77  \n",
       "999                    none              77              86                86  "
      ]
     },
     "execution_count": 60,
     "metadata": {},
     "output_type": "execute_result"
    }
   ],
   "source": [
    "data.tail()"
   ]
  },
  {
   "cell_type": "code",
   "execution_count": 61,
   "id": "a45bd806",
   "metadata": {},
   "outputs": [
    {
     "data": {
      "text/plain": [
       "(1000, 8)"
      ]
     },
     "execution_count": 61,
     "metadata": {},
     "output_type": "execute_result"
    }
   ],
   "source": [
    "data.shape"
   ]
  },
  {
   "cell_type": "code",
   "execution_count": 62,
   "id": "548518a7",
   "metadata": {},
   "outputs": [
    {
     "name": "stdout",
     "output_type": "stream",
     "text": [
      "Number of Rows 1000\n",
      "Number of Columns 8\n"
     ]
    }
   ],
   "source": [
    "print(\"Number of Rows\",data.shape[0])\n",
    "print(\"Number of Columns\",data.shape[1])"
   ]
  },
  {
   "cell_type": "code",
   "execution_count": 63,
   "id": "0a96a586",
   "metadata": {},
   "outputs": [
    {
     "name": "stdout",
     "output_type": "stream",
     "text": [
      "<class 'pandas.core.frame.DataFrame'>\n",
      "RangeIndex: 1000 entries, 0 to 999\n",
      "Data columns (total 8 columns):\n",
      " #   Column                       Non-Null Count  Dtype \n",
      "---  ------                       --------------  ----- \n",
      " 0   gender                       1000 non-null   object\n",
      " 1   race/ethnicity               1000 non-null   object\n",
      " 2   parental level of education  1000 non-null   object\n",
      " 3   lunch                        1000 non-null   object\n",
      " 4   test preparation course      1000 non-null   object\n",
      " 5   year one score               1000 non-null   int64 \n",
      " 6   year two score               1000 non-null   int64 \n",
      " 7   year three score             1000 non-null   int64 \n",
      "dtypes: int64(3), object(5)\n",
      "memory usage: 62.6+ KB\n"
     ]
    }
   ],
   "source": [
    "data.info()"
   ]
  },
  {
   "cell_type": "code",
   "execution_count": 64,
   "id": "17cfca39",
   "metadata": {},
   "outputs": [
    {
     "data": {
      "text/plain": [
       "gender                         0\n",
       "race/ethnicity                 0\n",
       "parental level of education    0\n",
       "lunch                          0\n",
       "test preparation course        0\n",
       "year one score                 0\n",
       "year two score                 0\n",
       "year three score               0\n",
       "dtype: int64"
      ]
     },
     "execution_count": 64,
     "metadata": {},
     "output_type": "execute_result"
    }
   ],
   "source": [
    "data.isnull().sum()"
   ]
  },
  {
   "cell_type": "code",
   "execution_count": 65,
   "id": "7a0d564a",
   "metadata": {},
   "outputs": [
    {
     "data": {
      "text/html": [
       "<div>\n",
       "<style scoped>\n",
       "    .dataframe tbody tr th:only-of-type {\n",
       "        vertical-align: middle;\n",
       "    }\n",
       "\n",
       "    .dataframe tbody tr th {\n",
       "        vertical-align: top;\n",
       "    }\n",
       "\n",
       "    .dataframe thead th {\n",
       "        text-align: right;\n",
       "    }\n",
       "</style>\n",
       "<table border=\"1\" class=\"dataframe\">\n",
       "  <thead>\n",
       "    <tr style=\"text-align: right;\">\n",
       "      <th></th>\n",
       "      <th>year one score</th>\n",
       "      <th>year two score</th>\n",
       "      <th>year three score</th>\n",
       "    </tr>\n",
       "  </thead>\n",
       "  <tbody>\n",
       "    <tr>\n",
       "      <th>count</th>\n",
       "      <td>1000.00000</td>\n",
       "      <td>1000.000000</td>\n",
       "      <td>1000.000000</td>\n",
       "    </tr>\n",
       "    <tr>\n",
       "      <th>mean</th>\n",
       "      <td>66.08900</td>\n",
       "      <td>69.169000</td>\n",
       "      <td>68.054000</td>\n",
       "    </tr>\n",
       "    <tr>\n",
       "      <th>std</th>\n",
       "      <td>15.16308</td>\n",
       "      <td>14.600192</td>\n",
       "      <td>15.195657</td>\n",
       "    </tr>\n",
       "    <tr>\n",
       "      <th>min</th>\n",
       "      <td>0.00000</td>\n",
       "      <td>17.000000</td>\n",
       "      <td>10.000000</td>\n",
       "    </tr>\n",
       "    <tr>\n",
       "      <th>25%</th>\n",
       "      <td>57.00000</td>\n",
       "      <td>59.000000</td>\n",
       "      <td>57.750000</td>\n",
       "    </tr>\n",
       "    <tr>\n",
       "      <th>50%</th>\n",
       "      <td>66.00000</td>\n",
       "      <td>70.000000</td>\n",
       "      <td>69.000000</td>\n",
       "    </tr>\n",
       "    <tr>\n",
       "      <th>75%</th>\n",
       "      <td>77.00000</td>\n",
       "      <td>79.000000</td>\n",
       "      <td>79.000000</td>\n",
       "    </tr>\n",
       "    <tr>\n",
       "      <th>max</th>\n",
       "      <td>100.00000</td>\n",
       "      <td>100.000000</td>\n",
       "      <td>100.000000</td>\n",
       "    </tr>\n",
       "  </tbody>\n",
       "</table>\n",
       "</div>"
      ],
      "text/plain": [
       "       year one score  year two score  year three score\n",
       "count      1000.00000     1000.000000       1000.000000\n",
       "mean         66.08900       69.169000         68.054000\n",
       "std          15.16308       14.600192         15.195657\n",
       "min           0.00000       17.000000         10.000000\n",
       "25%          57.00000       59.000000         57.750000\n",
       "50%          66.00000       70.000000         69.000000\n",
       "75%          77.00000       79.000000         79.000000\n",
       "max         100.00000      100.000000        100.000000"
      ]
     },
     "execution_count": 65,
     "metadata": {},
     "output_type": "execute_result"
    }
   ],
   "source": [
    "data.describe()"
   ]
  },
  {
   "cell_type": "code",
   "execution_count": 66,
   "id": "809183da",
   "metadata": {},
   "outputs": [
    {
     "data": {
      "text/html": [
       "<div>\n",
       "<style scoped>\n",
       "    .dataframe tbody tr th:only-of-type {\n",
       "        vertical-align: middle;\n",
       "    }\n",
       "\n",
       "    .dataframe tbody tr th {\n",
       "        vertical-align: top;\n",
       "    }\n",
       "\n",
       "    .dataframe thead th {\n",
       "        text-align: right;\n",
       "    }\n",
       "</style>\n",
       "<table border=\"1\" class=\"dataframe\">\n",
       "  <thead>\n",
       "    <tr style=\"text-align: right;\">\n",
       "      <th></th>\n",
       "      <th>gender</th>\n",
       "      <th>race/ethnicity</th>\n",
       "      <th>parental level of education</th>\n",
       "      <th>lunch</th>\n",
       "      <th>test preparation course</th>\n",
       "      <th>year one score</th>\n",
       "      <th>year two score</th>\n",
       "      <th>year three score</th>\n",
       "    </tr>\n",
       "  </thead>\n",
       "  <tbody>\n",
       "    <tr>\n",
       "      <th>0</th>\n",
       "      <td>female</td>\n",
       "      <td>group B</td>\n",
       "      <td>bachelor's degree</td>\n",
       "      <td>standard</td>\n",
       "      <td>none</td>\n",
       "      <td>72</td>\n",
       "      <td>72</td>\n",
       "      <td>74</td>\n",
       "    </tr>\n",
       "  </tbody>\n",
       "</table>\n",
       "</div>"
      ],
      "text/plain": [
       "   gender race/ethnicity parental level of education     lunch  \\\n",
       "0  female        group B           bachelor's degree  standard   \n",
       "\n",
       "  test preparation course  year one score  year two score  year three score  \n",
       "0                    none              72              72                74  "
      ]
     },
     "execution_count": 66,
     "metadata": {},
     "output_type": "execute_result"
    }
   ],
   "source": [
    "data.head(1)"
   ]
  },
  {
   "cell_type": "code",
   "execution_count": 67,
   "id": "1dabf2a2",
   "metadata": {},
   "outputs": [],
   "source": [
    "df = pd.read_csv(\"StudentsPerformance.csv\")"
   ]
  },
  {
   "cell_type": "code",
   "execution_count": 68,
   "id": "394b4f75",
   "metadata": {},
   "outputs": [],
   "source": [
    "categorical_cols = df.select_dtypes(include='object').columns"
   ]
  },
  {
   "cell_type": "code",
   "execution_count": 69,
   "id": "3b1ae608",
   "metadata": {},
   "outputs": [
    {
     "data": {
      "text/plain": [
       "Index(['gender', 'race/ethnicity', 'parental level of education', 'lunch',\n",
       "       'test preparation course'],\n",
       "      dtype='object')"
      ]
     },
     "execution_count": 69,
     "metadata": {},
     "output_type": "execute_result"
    }
   ],
   "source": [
    "categorical_cols"
   ]
  },
  {
   "cell_type": "code",
   "execution_count": 70,
   "id": "658c8426",
   "metadata": {},
   "outputs": [
    {
     "name": "stdout",
     "output_type": "stream",
     "text": [
      "['female' 'male']\n",
      "['group B' 'group C' 'group A' 'group D' 'group E']\n",
      "[\"bachelor's degree\" 'some college' \"master's degree\" \"associate's degree\"\n",
      " 'high school' 'some high school']\n",
      "['standard' 'free/reduced']\n",
      "['none' 'completed']\n"
     ]
    }
   ],
   "source": [
    "for i in categorical_cols:\n",
    "    print(df[i].unique())"
   ]
  },
  {
   "cell_type": "code",
   "execution_count": 71,
   "id": "9edb7939",
   "metadata": {},
   "outputs": [
    {
     "data": {
      "text/plain": [
       "gender                         0\n",
       "race/ethnicity                 0\n",
       "parental level of education    0\n",
       "lunch                          0\n",
       "test preparation course        0\n",
       "year one score                 0\n",
       "year two score                 0\n",
       "year three score               0\n",
       "dtype: int64"
      ]
     },
     "execution_count": 71,
     "metadata": {},
     "output_type": "execute_result"
    }
   ],
   "source": [
    "df.isnull().sum()"
   ]
  },
  {
   "cell_type": "code",
   "execution_count": 72,
   "id": "6becf3d3",
   "metadata": {},
   "outputs": [],
   "source": [
    "import seaborn as sns"
   ]
  },
  {
   "cell_type": "code",
   "execution_count": 73,
   "id": "e04a1a7e",
   "metadata": {},
   "outputs": [],
   "source": [
    "df['gender'] = df['gender'].astype('category')"
   ]
  },
  {
   "cell_type": "code",
   "execution_count": 74,
   "id": "03c9ef32",
   "metadata": {},
   "outputs": [
    {
     "data": {
      "text/plain": [
       "<Axes: xlabel='gender', ylabel='count'>"
      ]
     },
     "execution_count": 74,
     "metadata": {},
     "output_type": "execute_result"
    },
    {
     "data": {
      "image/png": "[encoded data removed]",
      "text/plain": [
       "<Figure size 640x480 with 1 Axes>"
      ]
     },
     "metadata": {},
     "output_type": "display_data"
    }
   ],
   "source": [
    "sns.countplot(data=df, x='gender')"
   ]
  },
  {
   "cell_type": "code",
   "execution_count": 54,
   "id": "30f8a66c",
   "metadata": {},
   "outputs": [
    {
     "data": {
      "image/png": "[encoded data removed]",
      "text/plain": [
       "<Figure size 600x600 with 1 Axes>"
      ]
     },
     "metadata": {},
     "output_type": "display_data"
    }
   ],
   "source": [
    "count_test = df['test preparation course'].value_counts()\n",
    "labels = df['test preparation course'].value_counts().index\n",
    "plt.figure(figsize= (6,6))\n",
    "plt.pie(count_test,labels=labels,autopct='%1.1f%%')\n",
    "plt.legend(labels)\n",
    "plt.show()"
   ]
  },
  {
   "cell_type": "code",
   "execution_count": 75,
   "id": "9ad788de",
   "metadata": {},
   "outputs": [
    {
     "name": "stdout",
     "output_type": "stream",
     "text": [
      "Index(['gender', 'race/ethnicity', 'parental level of education', 'lunch',\n",
      "       'test preparation course', 'year one score', 'year two score',\n",
      "       'year three score'],\n",
      "      dtype='object')\n"
     ]
    }
   ],
   "source": [
    "print(df.columns)"
   ]
  },
  {
   "cell_type": "code",
   "execution_count": 76,
   "id": "66ec7b1e",
   "metadata": {},
   "outputs": [],
   "source": [
    "df['average_score']=(df['year one score']+df['year two score']+df['year three score'])/3"
   ]
  },
  {
   "cell_type": "code",
   "execution_count": 77,
   "id": "114a8fa2",
   "metadata": {},
   "outputs": [
    {
     "data": {
      "text/plain": [
       "<Axes: xlabel='average_score', ylabel='year one score'>"
      ]
     },
     "execution_count": 77,
     "metadata": {},
     "output_type": "execute_result"
    },
    {
     "data": {
      "image/png": "[encoded data removed]",
      "text/plain": [
       "<Figure size 640x480 with 1 Axes>"
      ]
     },
     "metadata": {},
     "output_type": "display_data"
    }
   ],
   "source": [
    "sns.scatterplot(x=df['average_score'],y=df['year one score'],hue=df['gender'])"
   ]
  },
  {
   "cell_type": "code",
   "execution_count": 78,
   "id": "324956d0",
   "metadata": {},
   "outputs": [
    {
     "data": {
      "text/plain": [
       "<Axes: xlabel='average_score', ylabel='year two score'>"
      ]
     },
     "execution_count": 78,
     "metadata": {},
     "output_type": "execute_result"
    },
    {
     "data": {
      "image/png": "[encoded data removed]",
      "text/plain": [
       "<Figure size 640x480 with 1 Axes>"
      ]
     },
     "metadata": {},
     "output_type": "display_data"
    }
   ],
   "source": [
    "sns.scatterplot(x=df['average_score'],y=df['year two score'],hue=df['gender'])"
   ]
  },
  {
   "cell_type": "code",
   "execution_count": 79,
   "id": "d2301b99",
   "metadata": {},
   "outputs": [],
   "source": [
    "gender = {\n",
    "    'male':1,\n",
    "    'female':0\n",
    "}"
   ]
  },
  {
   "cell_type": "code",
   "execution_count": 80,
   "id": "b208d6e4",
   "metadata": {},
   "outputs": [],
   "source": [
    "race = {\n",
    "    'group A':0,\n",
    "    'group B':1,\n",
    "    'group C':2,\n",
    "    'group D':3,\n",
    "    'group E':4\n",
    "}"
   ]
  },
  {
   "cell_type": "code",
   "execution_count": 81,
   "id": "8db9641e",
   "metadata": {},
   "outputs": [],
   "source": [
    "df['gender']=df['gender'].map(gender)\n",
    "df['race/ethnicity']=df['race/ethnicity'].map(race)"
   ]
  },
  {
   "cell_type": "code",
   "execution_count": 82,
   "id": "8ab1693f",
   "metadata": {},
   "outputs": [
    {
     "data": {
      "text/plain": [
       "<bound method NDFrame.head of     gender  race/ethnicity parental level of education         lunch  \\\n",
       "0        0               1           bachelor's degree      standard   \n",
       "1        0               2                some college      standard   \n",
       "2        0               1             master's degree      standard   \n",
       "3        1               0          associate's degree  free/reduced   \n",
       "4        1               2                some college      standard   \n",
       "..     ...             ...                         ...           ...   \n",
       "995      0               4             master's degree      standard   \n",
       "996      1               2                 high school  free/reduced   \n",
       "997      0               2                 high school  free/reduced   \n",
       "998      0               3                some college      standard   \n",
       "999      0               3                some college  free/reduced   \n",
       "\n",
       "    test preparation course  year one score  year two score  year three score  \\\n",
       "0                      none              72              72                74   \n",
       "1                 completed              69              90                88   \n",
       "2                      none              90              95                93   \n",
       "3                      none              47              57                44   \n",
       "4                      none              76              78                75   \n",
       "..                      ...             ...             ...               ...   \n",
       "995               completed              88              99                95   \n",
       "996                    none              62              55                55   \n",
       "997               completed              59              71                65   \n",
       "998               completed              68              78                77   \n",
       "999                    none              77              86                86   \n",
       "\n",
       "     average_score  \n",
       "0        72.666667  \n",
       "1        82.333333  \n",
       "2        92.666667  \n",
       "3        49.333333  \n",
       "4        76.333333  \n",
       "..             ...  \n",
       "995      94.000000  \n",
       "996      57.333333  \n",
       "997      65.000000  \n",
       "998      74.333333  \n",
       "999      83.000000  \n",
       "\n",
       "[1000 rows x 9 columns]>"
      ]
     },
     "execution_count": 82,
     "metadata": {},
     "output_type": "execute_result"
    }
   ],
   "source": [
    "df.head"
   ]
  },
  {
   "cell_type": "code",
   "execution_count": 83,
   "id": "56fa91f3",
   "metadata": {},
   "outputs": [],
   "source": [
    "level = {\n",
    "    \"bachelor's degree\":0,\n",
    "    'some college':1,\n",
    "    \"master's degree\":2,\n",
    "    \"associate's degree\":3,\n",
    "    \"high school\":4,\n",
    "    \"some high school\":5\n",
    "}"
   ]
  },
  {
   "cell_type": "code",
   "execution_count": 84,
   "id": "6dfc1362",
   "metadata": {},
   "outputs": [],
   "source": [
    "df['parental level of education']=df['parental level of education'].map(level)"
   ]
  },
  {
   "cell_type": "code",
   "execution_count": 85,
   "id": "5439fc2f",
   "metadata": {},
   "outputs": [
    {
     "data": {
      "text/plain": [
       "<bound method NDFrame.head of     gender  race/ethnicity  parental level of education         lunch  \\\n",
       "0        0               1                            0      standard   \n",
       "1        0               2                            1      standard   \n",
       "2        0               1                            2      standard   \n",
       "3        1               0                            3  free/reduced   \n",
       "4        1               2                            1      standard   \n",
       "..     ...             ...                          ...           ...   \n",
       "995      0               4                            2      standard   \n",
       "996      1               2                            4  free/reduced   \n",
       "997      0               2                            4  free/reduced   \n",
       "998      0               3                            1      standard   \n",
       "999      0               3                            1  free/reduced   \n",
       "\n",
       "    test preparation course  year one score  year two score  year three score  \\\n",
       "0                      none              72              72                74   \n",
       "1                 completed              69              90                88   \n",
       "2                      none              90              95                93   \n",
       "3                      none              47              57                44   \n",
       "4                      none              76              78                75   \n",
       "..                      ...             ...             ...               ...   \n",
       "995               completed              88              99                95   \n",
       "996                    none              62              55                55   \n",
       "997               completed              59              71                65   \n",
       "998               completed              68              78                77   \n",
       "999                    none              77              86                86   \n",
       "\n",
       "     average_score  \n",
       "0        72.666667  \n",
       "1        82.333333  \n",
       "2        92.666667  \n",
       "3        49.333333  \n",
       "4        76.333333  \n",
       "..             ...  \n",
       "995      94.000000  \n",
       "996      57.333333  \n",
       "997      65.000000  \n",
       "998      74.333333  \n",
       "999      83.000000  \n",
       "\n",
       "[1000 rows x 9 columns]>"
      ]
     },
     "execution_count": 85,
     "metadata": {},
     "output_type": "execute_result"
    }
   ],
   "source": [
    "df.head"
   ]
  },
  {
   "cell_type": "code",
   "execution_count": 86,
   "id": "3647407f",
   "metadata": {},
   "outputs": [],
   "source": [
    "df = pd.get_dummies(df,drop_first=True)"
   ]
  },
  {
   "cell_type": "code",
   "execution_count": 87,
   "id": "4d0adc2c",
   "metadata": {},
   "outputs": [
    {
     "data": {
      "text/plain": [
       "<bound method NDFrame.head of      race/ethnicity  parental level of education  year one score  \\\n",
       "0                 1                            0              72   \n",
       "1                 2                            1              69   \n",
       "2                 1                            2              90   \n",
       "3                 0                            3              47   \n",
       "4                 2                            1              76   \n",
       "..              ...                          ...             ...   \n",
       "995               4                            2              88   \n",
       "996               2                            4              62   \n",
       "997               2                            4              59   \n",
       "998               3                            1              68   \n",
       "999               3                            1              77   \n",
       "\n",
       "     year two score  year three score  average_score  gender_1  \\\n",
       "0                72                74      72.666667     False   \n",
       "1                90                88      82.333333     False   \n",
       "2                95                93      92.666667     False   \n",
       "3                57                44      49.333333      True   \n",
       "4                78                75      76.333333      True   \n",
       "..              ...               ...            ...       ...   \n",
       "995              99                95      94.000000     False   \n",
       "996              55                55      57.333333      True   \n",
       "997              71                65      65.000000     False   \n",
       "998              78                77      74.333333     False   \n",
       "999              86                86      83.000000     False   \n",
       "\n",
       "     lunch_standard  test preparation course_none  \n",
       "0              True                          True  \n",
       "1              True                         False  \n",
       "2              True                          True  \n",
       "3             False                          True  \n",
       "4              True                          True  \n",
       "..              ...                           ...  \n",
       "995            True                         False  \n",
       "996           False                          True  \n",
       "997           False                         False  \n",
       "998            True                         False  \n",
       "999           False                          True  \n",
       "\n",
       "[1000 rows x 9 columns]>"
      ]
     },
     "execution_count": 87,
     "metadata": {},
     "output_type": "execute_result"
    }
   ],
   "source": [
    "df.head"
   ]
  },
  {
   "cell_type": "code",
   "execution_count": 90,
   "id": "9f1c390e",
   "metadata": {},
   "outputs": [],
   "source": [
    "x = df.drop(columns='average_score').values"
   ]
  },
  {
   "cell_type": "code",
   "execution_count": 91,
   "id": "4ffca21e",
   "metadata": {},
   "outputs": [
    {
     "data": {
      "text/plain": [
       "array([[1, 0, 72, ..., False, True, True],\n",
       "       [2, 1, 69, ..., False, True, False],\n",
       "       [1, 2, 90, ..., False, True, True],\n",
       "       ...,\n",
       "       [2, 4, 59, ..., False, False, False],\n",
       "       [3, 1, 68, ..., False, True, False],\n",
       "       [3, 1, 77, ..., False, False, True]], dtype=object)"
      ]
     },
     "execution_count": 91,
     "metadata": {},
     "output_type": "execute_result"
    }
   ],
   "source": [
    "x"
   ]
  },
  {
   "cell_type": "code",
   "execution_count": 92,
   "id": "708f37b2",
   "metadata": {},
   "outputs": [
    {
     "data": {
      "text/plain": [
       "array([1, 0, 72, 72, 74, False, True, True], dtype=object)"
      ]
     },
     "execution_count": 92,
     "metadata": {},
     "output_type": "execute_result"
    }
   ],
   "source": [
    "x[0]"
   ]
  },
  {
   "cell_type": "code",
   "execution_count": 93,
   "id": "3c0f3db3",
   "metadata": {},
   "outputs": [],
   "source": [
    "y = df['average_score'].values"
   ]
  },
  {
   "cell_type": "code",
   "execution_count": 94,
   "id": "cfc23f19",
   "metadata": {},
   "outputs": [
    {
     "data": {
      "text/plain": [
       "array([ 72.66666667,  82.33333333,  92.66666667,  49.33333333,\n",
       "        76.33333333,  77.33333333,  91.66666667,  40.66666667,\n",
       "        65.        ,  49.33333333,  54.66666667,  45.        ,\n",
       "        73.        ,  73.33333333,  53.66666667,  74.        ,\n",
       "        87.66666667,  26.        ,  44.66666667,  57.66666667,\n",
       "        66.        ,  70.        ,  50.33333333,  71.66666667,\n",
       "        75.        ,  73.        ,  59.33333333,  70.33333333,\n",
       "        68.33333333,  69.        ,  72.33333333,  63.        ,\n",
       "        64.33333333,  40.        ,  88.66666667,  80.33333333,\n",
       "        79.33333333,  57.66666667,  84.33333333,  56.66666667,\n",
       "        56.66666667,  66.33333333,  58.66666667,  63.33333333,\n",
       "        53.33333333,  58.66666667,  60.66666667,  71.        ,\n",
       "        69.        ,  82.66666667,  52.        ,  71.33333333,\n",
       "        46.33333333,  80.33333333,  80.66666667,  39.        ,\n",
       "        84.33333333,  52.        ,  58.33333333,   9.        ,\n",
       "        75.        ,  37.33333333,  59.33333333,  73.33333333,\n",
       "        58.66666667,  64.        ,  39.66666667,  68.66666667,\n",
       "        58.33333333,  53.33333333,  64.66666667,  60.33333333,\n",
       "        46.66666667,  58.        ,  46.33333333,  41.        ,\n",
       "        26.        ,  79.66666667,  69.        ,  66.        ,\n",
       "        48.66666667,  46.33333333,  50.33333333,  66.33333333,\n",
       "        38.33333333,  78.33333333,  82.33333333,  72.        ,\n",
       "        65.        ,  80.33333333,  70.33333333,  32.33333333,\n",
       "        73.66666667,  46.        ,  85.66666667,  80.33333333,\n",
       "        64.33333333,  68.33333333,  62.33333333,  64.66666667,\n",
       "        71.        ,  72.        ,  88.33333333,  50.33333333,\n",
       "        91.33333333,  65.66666667,  95.66666667,  64.33333333,\n",
       "        66.        ,  68.66666667,  88.        ,  55.33333333,\n",
       "        51.33333333,  54.33333333,  99.66666667,  78.33333333,\n",
       "        80.66666667,  79.66666667,  58.33333333,  63.        ,\n",
       "        86.66666667,  90.66666667,  91.33333333,  58.66666667,\n",
       "        78.66666667,  89.33333333,  69.        ,  72.        ,\n",
       "        79.33333333,  50.33333333,  85.        ,  43.33333333,\n",
       "        77.        ,  80.        ,  76.        ,  53.66666667,\n",
       "        48.66666667,  60.33333333,  64.        ,  67.        ,\n",
       "        73.        ,  61.66666667,  50.33333333,  49.        ,\n",
       "        79.66666667,  31.33333333,  82.33333333,  69.        ,\n",
       "        74.66666667,  97.66666667,  66.        ,  70.66666667,\n",
       "        65.        ,  50.        ,  63.33333333,  82.33333333,\n",
       "        72.66666667,  60.        ,  78.        ,  64.        ,\n",
       "        78.        ,  82.66666667,  51.33333333,  51.33333333,\n",
       "        88.        ,  98.66666667,  51.66666667,  70.66666667,\n",
       "        76.33333333,  70.66666667,  73.        ,  86.66666667,\n",
       "        82.        ,  66.66666667,  49.33333333,  86.33333333,\n",
       "        52.66666667,  75.        ,  61.33333333,  99.        ,\n",
       "        68.33333333,  58.66666667,  49.        ,  68.        ,\n",
       "        48.66666667,  65.66666667,  73.66666667,  65.33333333,\n",
       "        48.33333333,  84.        ,  66.66666667,  79.33333333,\n",
       "        64.        ,  67.        ,  79.33333333,  56.        ,\n",
       "        64.33333333,  54.        ,  51.        ,  77.66666667,\n",
       "        79.        ,  74.33333333,  71.66666667,  64.66666667,\n",
       "        47.33333333,  74.33333333,  68.66666667,  79.        ,\n",
       "        77.        ,  61.66666667,  79.33333333,  30.        ,\n",
       "        54.66666667,  55.66666667,  86.33333333,  80.66666667,\n",
       "        85.66666667,  38.33333333,  71.        ,  57.66666667,\n",
       "        66.        ,  81.66666667,  60.66666667,  80.33333333,\n",
       "        63.66666667,  51.66666667,  71.66666667,  53.66666667,\n",
       "        68.        ,  92.33333333,  68.66666667,  43.66666667,\n",
       "        78.66666667,  85.66666667,  83.        ,  77.33333333,\n",
       "        65.33333333,  66.        ,  52.33333333,  81.33333333,\n",
       "        69.        ,  82.        ,  54.33333333,  51.        ,\n",
       "        72.66666667,  77.33333333,  79.66666667,  65.33333333,\n",
       "        63.66666667,  60.33333333,  48.33333333,  79.        ,\n",
       "        66.66666667,  77.33333333,  52.66666667,  68.33333333,\n",
       "        68.33333333,  77.33333333,  74.33333333,  75.66666667,\n",
       "        73.33333333,  78.66666667,  48.33333333,  94.        ,\n",
       "        72.33333333,  47.33333333,  73.        ,  72.66666667,\n",
       "        91.66666667,  72.33333333,  64.33333333,  49.66666667,\n",
       "        52.66666667,  68.66666667,  83.        ,  78.        ,\n",
       "        90.        ,  65.66666667,  77.        ,  62.        ,\n",
       "        49.        ,  46.33333333,  78.66666667,  75.33333333,\n",
       "        43.        ,  81.66666667,  89.        ,  79.33333333,\n",
       "        79.66666667,  76.66666667,  71.33333333,  76.33333333,\n",
       "        60.        ,  71.        ,  78.33333333,  63.        ,\n",
       "        43.33333333,  71.        ,  45.33333333,  84.        ,\n",
       "        80.        ,  54.        ,  77.33333333,  73.33333333,\n",
       "        77.33333333,  68.33333333,  89.        ,  49.        ,\n",
       "        63.66666667,  52.66666667,  76.33333333,  61.        ,\n",
       "        65.33333333,  68.        ,  66.        ,  67.33333333,\n",
       "        83.33333333,  77.66666667,  67.66666667,  61.33333333,\n",
       "        76.66666667,  80.        ,  77.33333333,  49.66666667,\n",
       "        43.33333333,  88.66666667,  61.33333333,  23.33333333,\n",
       "        78.        ,  49.        ,  64.        ,  39.66666667,\n",
       "        57.        ,  83.        ,  90.33333333,  65.        ,\n",
       "        71.66666667,  47.66666667,  29.66666667,  50.        ,\n",
       "        57.        ,  65.66666667,  73.        ,  68.66666667,\n",
       "        73.        ,  75.66666667,  60.        ,  88.66666667,\n",
       "        71.66666667,  79.        ,  62.        ,  58.33333333,\n",
       "        73.66666667,  53.66666667,  66.66666667,  67.66666667,\n",
       "        61.66666667,  59.        ,  60.66666667,  86.33333333,\n",
       "        59.66666667,  82.33333333,  56.        ,  31.        ,\n",
       "        59.        ,  55.66666667,  60.        ,  62.66666667,\n",
       "        55.33333333,  80.66666667,  77.33333333,  62.66666667,\n",
       "        73.33333333,  91.66666667,  67.33333333,  43.33333333,\n",
       "        84.        ,  93.33333333,  77.        ,  64.        ,\n",
       "        83.        ,  94.        ,  77.        ,  44.        ,\n",
       "        41.33333333,  72.66666667,  69.        ,  67.33333333,\n",
       "        63.33333333,  72.66666667,  66.33333333,  74.        ,\n",
       "        70.        ,  55.66666667,  72.        ,  44.66666667,\n",
       "        60.        ,  89.66666667,  64.66666667,  57.66666667,\n",
       "        60.        ,  46.33333333,  56.33333333,  95.66666667,\n",
       "        58.33333333,  68.        ,  64.33333333,  79.66666667,\n",
       "        55.        ,  85.33333333,  71.66666667,  81.66666667,\n",
       "        65.66666667,  65.66666667,  67.33333333,  75.33333333,\n",
       "        71.        ,  71.33333333,  63.        ,  55.66666667,\n",
       "        89.33333333,  59.66666667,  57.33333333,  74.66666667,\n",
       "        38.        ,  63.66666667,  85.        ,  68.33333333,\n",
       "        59.        ,  61.66666667,  63.        ,  67.66666667,\n",
       "        57.33333333,  52.        ,  68.33333333,  50.33333333,\n",
       "        69.        ,  71.33333333,  59.        ,  86.33333333,\n",
       "        75.66666667,  79.66666667,  67.        ,  77.33333333,\n",
       "        78.        ,  72.66666667,  65.        ,  82.33333333,\n",
       "        45.        ,  75.33333333,  78.        ,  96.33333333,\n",
       "        72.        ,  57.33333333,  58.66666667,  46.66666667,\n",
       "        85.66666667,  51.66666667, 100.        ,  68.33333333,\n",
       "        55.33333333,  51.        ,  72.33333333,  86.        ,\n",
       "        65.        ,  87.33333333,  31.66666667,  68.        ,\n",
       "        83.33333333,  80.33333333,  86.        ,  68.66666667,\n",
       "        79.33333333,  62.33333333,  90.33333333,  76.66666667,\n",
       "        68.        ,  73.33333333,  63.        ,  71.33333333,\n",
       "        70.66666667,  55.66666667,  65.66666667,  52.33333333,\n",
       "        51.66666667,  71.66666667,  54.66666667,  69.66666667,\n",
       "        58.        ,  81.        ,  75.33333333,  66.        ,\n",
       "        85.33333333,  86.33333333,  62.        ,  66.        ,\n",
       "        51.33333333,  71.        ,  67.66666667,  73.        ,\n",
       "        78.33333333,  91.        ,  59.33333333,  92.        ,\n",
       "        51.        ,  81.33333333,  68.        ,  56.        ,\n",
       "        78.        ,  88.33333333,  73.33333333,  52.33333333,\n",
       "        54.33333333,  59.        ,  89.33333333,  82.66666667,\n",
       "        82.33333333,  71.        ,  74.        ,  74.66666667,\n",
       "        57.33333333,  87.        ,  61.33333333,  54.33333333,\n",
       "        51.33333333,  62.33333333,  59.        ,  44.        ,\n",
       "        39.        ,  68.66666667,  69.33333333,  51.33333333,\n",
       "        60.33333333,  87.        ,  70.        ,  77.33333333,\n",
       "        56.33333333,  59.66666667,  74.        ,  91.66666667,\n",
       "        70.66666667,  80.33333333,  79.        ,  88.66666667,\n",
       "        64.33333333,  80.33333333,  96.33333333,  67.66666667,\n",
       "        64.33333333,  73.33333333,  73.33333333,  88.33333333,\n",
       "        46.        ,  67.66666667,  46.        ,  34.66666667,\n",
       "        68.66666667,  64.66666667,  64.33333333,  67.        ,\n",
       "        76.        ,  70.33333333,  92.66666667,  74.33333333,\n",
       "        48.33333333,  45.33333333,  97.33333333,  70.        ,\n",
       "        52.66666667,  67.66666667,  72.        ,  93.        ,\n",
       "        57.        ,  60.        ,  75.33333333,  49.33333333,\n",
       "        54.66666667,  87.        ,  54.        ,  60.66666667,\n",
       "        91.33333333,  78.66666667,  71.33333333,  76.        ,\n",
       "        74.33333333,  72.33333333,  67.        ,  56.33333333,\n",
       "        61.        ,  59.66666667,  56.33333333,  61.        ,\n",
       "        66.66666667,  74.33333333,  97.        ,  69.        ,\n",
       "        23.        ,  51.66666667,  73.        ,  76.        ,\n",
       "        59.        ,  29.33333333,  78.        ,  56.        ,\n",
       "        87.66666667,  69.66666667,  83.66666667,  50.66666667,\n",
       "        62.33333333,  62.        ,  64.        ,  61.        ,\n",
       "        91.66666667,  72.        ,  89.33333333,  66.66666667,\n",
       "        40.        ,  83.        ,  86.66666667,  68.66666667,\n",
       "        50.        ,  60.33333333,  53.66666667,  94.        ,\n",
       "        60.33333333,  98.66666667,  67.33333333,  51.66666667,\n",
       "        50.66666667,  50.        ,  67.        ,  68.        ,\n",
       "        73.66666667,  82.66666667,  82.66666667,  69.66666667,\n",
       "        76.        ,  86.66666667,  78.66666667,  74.33333333,\n",
       "        48.        ,  84.        ,  77.33333333,  77.66666667,\n",
       "        65.        ,  75.66666667,  64.66666667,  64.66666667,\n",
       "        52.66666667,  76.33333333,  53.33333333,  74.66666667,\n",
       "        89.66666667,  69.66666667,  77.        ,  65.33333333,\n",
       "        69.33333333,  65.33333333,  53.66666667,  87.33333333,\n",
       "        74.66666667,  67.33333333,  65.        ,  67.        ,\n",
       "        68.66666667,  56.66666667,  69.        ,  83.        ,\n",
       "        69.33333333,  76.66666667,  70.        ,  53.        ,\n",
       "        74.33333333,  77.66666667,  74.66666667,  60.        ,\n",
       "        75.66666667,  76.        ,  78.        ,  61.33333333,\n",
       "        71.        ,  62.66666667,  57.        ,  37.66666667,\n",
       "        65.33333333,  97.66666667,  76.        ,  76.        ,\n",
       "        51.66666667,  88.66666667,  51.66666667,  75.66666667,\n",
       "        73.66666667,  75.66666667,  56.        ,  84.66666667,\n",
       "        82.33333333,  67.        ,  71.33333333,  63.66666667,\n",
       "        80.66666667,  65.33333333,  86.        ,  64.66666667,\n",
       "        62.        ,  66.33333333,  38.66666667,  59.        ,\n",
       "        85.        ,  53.66666667,  89.        ,  83.33333333,\n",
       "        99.        ,  82.        ,  68.        ,  85.66666667,\n",
       "        74.33333333,  97.        ,  75.33333333,  81.33333333,\n",
       "        68.        ,  57.66666667,  84.        ,  46.66666667,\n",
       "        43.66666667,  75.33333333,  72.33333333,  58.66666667,\n",
       "        83.        ,  43.        ,  75.        ,  48.        ,\n",
       "        90.        ,  48.66666667,  56.        ,  61.        ,\n",
       "        85.        ,  64.        ,  75.        ,  58.66666667,\n",
       "        75.        ,  50.        ,  82.33333333,  68.        ,\n",
       "        52.33333333,  75.        ,  71.66666667,  67.        ,\n",
       "        56.33333333,  85.66666667,  69.33333333,  68.33333333,\n",
       "        77.        ,  84.        ,  55.33333333,  90.33333333,\n",
       "        55.        ,  70.        ,  58.66666667,  74.33333333,\n",
       "        63.        ,  53.33333333,  81.66666667,  62.33333333,\n",
       "        60.66666667,  72.66666667,  70.        ,  66.        ,\n",
       "        71.33333333,  58.33333333,  49.66666667,  74.        ,\n",
       "        63.66666667,  73.        ,  63.66666667,  54.        ,\n",
       "        69.33333333,  40.66666667,  77.66666667,  87.        ,\n",
       "        53.        ,  83.66666667,  81.        ,  57.66666667,\n",
       "        83.66666667,  42.33333333,  76.        ,  29.66666667,\n",
       "        64.66666667,  59.33333333,  56.66666667,  65.33333333,\n",
       "        69.66666667,  83.33333333,  48.33333333,  66.        ,\n",
       "        70.        ,  78.33333333,  61.        ,  54.66666667,\n",
       "        69.33333333,  76.33333333,  92.        ,  84.66666667,\n",
       "        75.66666667,  76.66666667,  71.        ,  42.        ,\n",
       "        78.        ,  54.66666667,  39.33333333,  47.        ,\n",
       "        61.66666667,  82.33333333,  78.33333333,  89.        ,\n",
       "        56.        ,  69.        ,  66.66666667,  85.33333333,\n",
       "        89.        ,  87.        ,  50.66666667,  80.        ,\n",
       "        52.66666667,  62.33333333,  64.66666667,  70.        ,\n",
       "        78.66666667,  58.33333333,  59.33333333,  83.        ,\n",
       "        60.66666667,  82.66666667,  51.        ,  66.        ,\n",
       "        64.66666667,  78.66666667,  56.        ,  72.        ,\n",
       "        45.66666667,  57.66666667,  34.33333333,  75.66666667,\n",
       "        56.33333333,  86.33333333,  87.        ,  56.        ,\n",
       "        66.33333333,  74.66666667,  68.33333333,  64.        ,\n",
       "        88.33333333,  70.        ,  60.33333333,  96.66666667,\n",
       "        69.33333333,  75.        ,  49.        ,  77.33333333,\n",
       "        56.        ,  84.66666667,  39.66666667,  74.        ,\n",
       "        93.66666667,  84.        ,  54.66666667,  48.        ,\n",
       "        74.66666667,  50.33333333,  54.66666667,  72.66666667,\n",
       "        81.33333333,  87.33333333,  55.33333333,  70.        ,\n",
       "        82.33333333,  57.33333333,  70.33333333,  71.33333333,\n",
       "        64.33333333,  70.33333333,  69.33333333,  48.33333333,\n",
       "        52.        ,  72.66666667,  96.        ,  61.66666667,\n",
       "        69.33333333,  47.66666667,  87.33333333,  87.33333333,\n",
       "        63.33333333,  79.        ,  63.33333333,  34.66666667,\n",
       "        30.66666667,  73.33333333,  61.33333333,  75.        ,\n",
       "        86.        ,  75.        ,  41.        ,  97.66666667,\n",
       "        78.33333333,  80.66666667,  52.        ,  84.66666667,\n",
       "        71.33333333,  68.        ,  46.66666667,  78.33333333,\n",
       "        59.66666667,  58.33333333,  54.        ,  68.        ,\n",
       "       100.        ,  52.33333333,  71.33333333,  92.66666667,\n",
       "        68.66666667,  44.66666667,  68.        ,  61.33333333,\n",
       "        71.        ,  66.        ,  57.33333333,  65.66666667,\n",
       "        44.33333333,  51.66666667,  70.33333333,  60.33333333,\n",
       "        68.33333333,  73.        ,  91.66666667,  63.66666667,\n",
       "        59.        ,  57.33333333,  83.66666667,  71.33333333,\n",
       "        70.        ,  88.33333333,  70.33333333,  61.33333333,\n",
       "        62.33333333,  57.66666667,  81.33333333,  55.66666667,\n",
       "        50.33333333,  68.33333333,  79.33333333,  78.33333333,\n",
       "        73.33333333,  54.66666667,  66.66666667,  63.66666667,\n",
       "        84.        ,  97.33333333,  55.66666667,  75.66666667,\n",
       "        59.33333333,  51.66666667, 100.        ,  72.        ,\n",
       "        62.33333333,  68.        ,  66.        ,  62.        ,\n",
       "        70.33333333,  79.66666667,  96.33333333,  73.        ,\n",
       "        54.33333333,  58.33333333,  61.33333333,  74.33333333,\n",
       "        60.66666667,  61.66666667,  48.        ,  93.33333333,\n",
       "        18.33333333,  79.        ,  83.33333333,  85.33333333,\n",
       "        77.        ,  54.        ,  50.        ,  77.33333333,\n",
       "        44.66666667,  78.66666667,  80.66666667,  75.        ,\n",
       "        69.        ,  69.33333333,  62.66666667,  94.        ,\n",
       "        57.33333333,  65.        ,  74.33333333,  83.        ])"
      ]
     },
     "execution_count": 94,
     "metadata": {},
     "output_type": "execute_result"
    }
   ],
   "source": [
    "y"
   ]
  },
  {
   "cell_type": "code",
   "execution_count": 95,
   "id": "34aa8e60",
   "metadata": {},
   "outputs": [],
   "source": [
    "from sklearn.model_selection import train_test_split"
   ]
  },
  {
   "cell_type": "code",
   "execution_count": 96,
   "id": "cecb8141",
   "metadata": {},
   "outputs": [],
   "source": [
    "x_train,x_test,y_train,y_test=train_test_split(x,y,test_size=0.25,random_state=0)"
   ]
  },
  {
   "cell_type": "code",
   "execution_count": 97,
   "id": "dda3ee58",
   "metadata": {},
   "outputs": [],
   "source": [
    "from sklearn.ensemble import RandomForestRegressor"
   ]
  },
  {
   "cell_type": "code",
   "execution_count": 98,
   "id": "6b90ca96",
   "metadata": {},
   "outputs": [],
   "source": [
    "model=RandomForestRegressor()"
   ]
  },
  {
   "cell_type": "code",
   "execution_count": 99,
   "id": "f7c9738e",
   "metadata": {},
   "outputs": [
    {
     "data": {
      "text/html": [
       "<style>#sk-container-id-1 {color: black;}#sk-container-id-1 pre{padding: 0;}#sk-container-id-1 div.sk-toggleable {background-color: white;}#sk-container-id-1 label.sk-toggleable__label {cursor: pointer;display: block;width: 100%;margin-bottom: 0;padding: 0.3em;box-sizing: border-box;text-align: center;}#sk-container-id-1 label.sk-toggleable__label-arrow:before {content: \"▸\";float: left;margin-right: 0.25em;color: #696969;}#sk-container-id-1 label.sk-toggleable__label-arrow:hover:before {color: black;}#sk-container-id-1 div.sk-estimator:hover label.sk-toggleable__label-arrow:before {color: black;}#sk-container-id-1 div.sk-toggleable__content {max-height: 0;max-width: 0;overflow: hidden;text-align: left;background-color: #f0f8ff;}#sk-container-id-1 div.sk-toggleable__content pre {margin: 0.2em;color: black;border-radius: 0.25em;background-color: #f0f8ff;}#sk-container-id-1 input.sk-toggleable__control:checked~div.sk-toggleable__content {max-height: 200px;max-width: 100%;overflow: auto;}#sk-container-id-1 input.sk-toggleable__control:checked~label.sk-toggleable__label-arrow:before {content: \"▾\";}#sk-container-id-1 div.sk-estimator input.sk-toggleable__control:checked~label.sk-toggleable__label {background-color: #d4ebff;}#sk-container-id-1 div.sk-label input.sk-toggleable__control:checked~label.sk-toggleable__label {background-color: #d4ebff;}#sk-container-id-1 input.sk-hidden--visually {border: 0;clip: rect(1px 1px 1px 1px);clip: rect(1px, 1px, 1px, 1px);height: 1px;margin: -1px;overflow: hidden;padding: 0;position: absolute;width: 1px;}#sk-container-id-1 div.sk-estimator {font-family: monospace;background-color: #f0f8ff;border: 1px dotted black;border-radius: 0.25em;box-sizing: border-box;margin-bottom: 0.5em;}#sk-container-id-1 div.sk-estimator:hover {background-color: #d4ebff;}#sk-container-id-1 div.sk-parallel-item::after {content: \"\";width: 100%;border-bottom: 1px solid gray;flex-grow: 1;}#sk-container-id-1 div.sk-label:hover label.sk-toggleable__label {background-color: #d4ebff;}#sk-container-id-1 div.sk-serial::before {content: \"\";position: absolute;border-left: 1px solid gray;box-sizing: border-box;top: 0;bottom: 0;left: 50%;z-index: 0;}#sk-container-id-1 div.sk-serial {display: flex;flex-direction: column;align-items: center;background-color: white;padding-right: 0.2em;padding-left: 0.2em;position: relative;}#sk-container-id-1 div.sk-item {position: relative;z-index: 1;}#sk-container-id-1 div.sk-parallel {display: flex;align-items: stretch;justify-content: center;background-color: white;position: relative;}#sk-container-id-1 div.sk-item::before, #sk-container-id-1 div.sk-parallel-item::before {content: \"\";position: absolute;border-left: 1px solid gray;box-sizing: border-box;top: 0;bottom: 0;left: 50%;z-index: -1;}#sk-container-id-1 div.sk-parallel-item {display: flex;flex-direction: column;z-index: 1;position: relative;background-color: white;}#sk-container-id-1 div.sk-parallel-item:first-child::after {align-self: flex-end;width: 50%;}#sk-container-id-1 div.sk-parallel-item:last-child::after {align-self: flex-start;width: 50%;}#sk-container-id-1 div.sk-parallel-item:only-child::after {width: 0;}#sk-container-id-1 div.sk-dashed-wrapped {border: 1px dashed gray;margin: 0 0.4em 0.5em 0.4em;box-sizing: border-box;padding-bottom: 0.4em;background-color: white;}#sk-container-id-1 div.sk-label label {font-family: monospace;font-weight: bold;display: inline-block;line-height: 1.2em;}#sk-container-id-1 div.sk-label-container {text-align: center;}#sk-container-id-1 div.sk-container {/* jupyter's `normalize.less` sets `[hidden] { display: none; }` but bootstrap.min.css set `[hidden] { display: none !important; }` so we also need the `!important` here to be able to override the default hidden behavior on the sphinx rendered scikit-learn.org. See: https://github.com/scikit-learn/scikit-learn/issues/21755 */display: inline-block !important;position: relative;}#sk-container-id-1 div.sk-text-repr-fallback {display: none;}</style><div id=\"sk-container-id-1\" class=\"sk-top-container\"><div class=\"sk-text-repr-fallback\"><pre>RandomForestRegressor()</pre><b>In a Jupyter environment, please rerun this cell to show the HTML representation or trust the notebook. <br />On GitHub, the HTML representation is unable to render, please try loading this page with nbviewer.org.</b></div><div class=\"sk-container\" hidden><div class=\"sk-item\"><div class=\"sk-estimator sk-toggleable\"><input class=\"sk-toggleable__control sk-hidden--visually\" id=\"sk-estimator-id-1\" type=\"checkbox\" checked><label for=\"sk-estimator-id-1\" class=\"sk-toggleable__label sk-toggleable__label-arrow\">RandomForestRegressor</label><div class=\"sk-toggleable__content\"><pre>RandomForestRegressor()</pre></div></div></div></div></div>"
      ],
      "text/plain": [
       "RandomForestRegressor()"
      ]
     },
     "execution_count": 99,
     "metadata": {},
     "output_type": "execute_result"
    }
   ],
   "source": [
    "model.fit(x_train,y_train)"
   ]
  },
  {
   "cell_type": "code",
   "execution_count": 102,
   "id": "a96fdaee",
   "metadata": {},
   "outputs": [
    {
     "data": {
      "text/plain": [
       "['converted_model.joblib']"
      ]
     },
     "execution_count": 102,
     "metadata": {},
     "output_type": "execute_result"
    }
   ],
   "source": [
    "import joblib\n",
    "joblib.dump(model, 'converted_model.joblib')"
   ]
  },
  {
   "cell_type": "code",
   "execution_count": 103,
   "id": "7fbd9a4b",
   "metadata": {},
   "outputs": [],
   "source": [
    "model = joblib.load('converted_model.joblib')"
   ]
  },
  {
   "cell_type": "code",
   "execution_count": 104,
   "id": "02572824",
   "metadata": {},
   "outputs": [],
   "source": [
    "predictions=model.predict(x_test)"
   ]
  },
  {
   "cell_type": "code",
   "execution_count": 105,
   "id": "d76dd4ed",
   "metadata": {},
   "outputs": [
    {
     "data": {
      "text/plain": [
       "array([68.92666667, 77.12      , 45.32333333, 68.22333333, 74.20666667,\n",
       "       72.85666667, 70.19      , 43.87      , 87.25666667, 38.15666667,\n",
       "       51.98666667, 64.53333333, 81.95      , 80.59666667, 53.94333333,\n",
       "       39.50666667, 53.01666667, 86.37      , 53.35333333, 80.01333333,\n",
       "       62.79333333, 55.42666667, 76.49      , 60.69      , 47.92666667,\n",
       "       64.32333333, 58.36666667, 48.63666667, 63.27333333, 82.71666667,\n",
       "       79.52666667, 89.07333333, 89.19333333, 56.43333333, 54.59666667,\n",
       "       83.8       , 96.83333333, 58.93333333, 71.69666667, 72.01666667,\n",
       "       68.93666667, 56.84      , 70.18333333, 72.00333333, 78.46666667,\n",
       "       58.16      , 85.43666667, 61.63333333, 83.95666667, 57.75666667,\n",
       "       38.36333333, 62.73666667, 49.08333333, 57.20666667, 40.09333333,\n",
       "       70.52333333, 52.68666667, 64.55333333, 77.94      , 60.89      ,\n",
       "       67.76666667, 77.34      , 50.15666667, 71.62333333, 65.58      ,\n",
       "       64.54666667, 71.88666667, 51.41666667, 66.97666667, 54.99333333,\n",
       "       75.26666667, 85.24333333, 74.34666667, 65.31666667, 57.75      ,\n",
       "       65.28      , 72.21666667, 69.82666667, 29.34333333, 76.75333333,\n",
       "       78.14666667, 85.61333333, 68.46333333, 83.69333333, 67.64666667,\n",
       "       75.38      , 64.76      , 90.83666667, 71.03666667, 56.78666667,\n",
       "       71.90666667, 61.82333333, 61.23333333, 60.23      , 78.74      ,\n",
       "       71.79      , 51.69333333, 68.24333333, 62.44      , 64.71333333,\n",
       "       44.00666667, 86.96333333, 63.59      , 43.76666667, 76.42666667,\n",
       "       75.10666667, 68.55666667, 59.64666667, 55.34      , 85.74666667,\n",
       "       68.14666667, 76.33      , 36.91666667, 53.97333333, 67.63      ,\n",
       "       71.76333333, 80.4       , 76.79333333, 80.8       , 59.33666667,\n",
       "       53.12      , 78.51666667, 91.68666667, 81.09666667, 74.49333333,\n",
       "       58.47666667, 73.32      , 74.67      , 71.30333333, 62.48      ,\n",
       "       65.60666667, 66.64      , 23.64666667, 81.42666667, 83.77666667,\n",
       "       60.21333333, 65.18      , 64.49666667, 68.97666667, 82.39      ,\n",
       "       71.62666667, 67.01666667, 56.71666667, 60.00666667, 76.81      ,\n",
       "       37.99      , 42.04333333, 44.69      , 81.25666667, 87.45666667,\n",
       "       50.47666667, 72.17      , 95.47666667, 70.17666667, 75.71      ,\n",
       "       80.33      , 51.51333333, 55.98666667, 55.75333333, 51.77666667,\n",
       "       91.50333333, 50.49333333, 51.61666667, 92.25666667, 65.38333333,\n",
       "       76.38666667, 75.73666667, 69.16666667, 58.82      , 62.77      ,\n",
       "       57.07666667, 65.98      , 33.04333333, 65.30666667, 85.18666667,\n",
       "       68.16      , 68.91666667, 52.1       , 95.92      , 79.26333333,\n",
       "       66.16      , 83.40666667, 67.97      , 67.11666667, 78.64      ,\n",
       "       67.79333333, 96.16      , 99.71666667, 73.16666667, 47.42666667,\n",
       "       51.47666667, 60.57      , 50.28333333, 77.06333333, 58.11      ,\n",
       "       60.89666667, 83.95333333, 81.24      , 69.42      , 66.01666667,\n",
       "       75.53666667, 78.28333333, 57.01333333, 92.51666667, 68.57333333,\n",
       "       51.44      , 78.06      , 81.68      , 73.96333333, 69.38666667,\n",
       "       53.70666667, 91.26333333, 57.30666667, 63.8       , 37.36      ,\n",
       "       69.81666667, 80.89      , 62.95      , 56.58666667, 72.24333333,\n",
       "       76.22      , 66.75333333, 60.71666667, 73.52333333, 64.02      ,\n",
       "       78.83666667, 87.63333333, 59.75      , 44.29666667, 63.4       ,\n",
       "       44.76333333, 64.13666667, 54.46      , 48.59666667, 59.07      ,\n",
       "       66.37666667, 70.56      , 67.69333333, 69.80333333, 58.79      ,\n",
       "       77.40333333, 51.32666667, 80.14333333, 58.73      , 75.74333333,\n",
       "       71.93666667, 61.43333333, 92.44      , 62.46666667, 84.80333333])"
      ]
     },
     "execution_count": 105,
     "metadata": {},
     "output_type": "execute_result"
    }
   ],
   "source": [
    "predictions"
   ]
  },
  {
   "cell_type": "code",
   "execution_count": 106,
   "id": "7695452f",
   "metadata": {},
   "outputs": [],
   "source": [
    "from sklearn.metrics import r2_score"
   ]
  },
  {
   "cell_type": "markdown",
   "id": "b5a0dfaf",
   "metadata": {},
   "source": [
    "# This is model evaluation using r2-score"
   ]
  },
  {
   "cell_type": "code",
   "execution_count": 107,
   "id": "c73bf02a",
   "metadata": {},
   "outputs": [
    {
     "name": "stdout",
     "output_type": "stream",
     "text": [
      "0.9969918939650928\n"
     ]
    }
   ],
   "source": [
    "print(r2_score(predictions,y_test))"
   ]
  },
  {
   "cell_type": "markdown",
   "id": "f9327922",
   "metadata": {},
   "source": [
    "# Now lets serialize the model and save it"
   ]
  },
  {
   "cell_type": "code",
   "execution_count": 108,
   "id": "bd458143",
   "metadata": {},
   "outputs": [],
   "source": [
    "import joblib"
   ]
  },
  {
   "cell_type": "code",
   "execution_count": 109,
   "id": "ca3bdb4f",
   "metadata": {},
   "outputs": [
    {
     "data": {
      "text/plain": [
       "['converted_model.joblib']"
      ]
     },
     "execution_count": 109,
     "metadata": {},
     "output_type": "execute_result"
    }
   ],
   "source": [
    "joblib.dump(model, 'converted_model.joblib')"
   ]
  },
  {
   "cell_type": "code",
   "execution_count": 110,
   "id": "bad8c0c5",
   "metadata": {},
   "outputs": [],
   "source": [
    "model = joblib.load('converted_model.joblib')"
   ]
  },
  {
   "cell_type": "code",
   "execution_count": null,
   "id": "794f9386",
   "metadata": {},
   "outputs": [],
   "source": []
  }
 ],
 "metadata": {
  "kernelspec": {
   "display_name": "Python 3 (ipykernel)",
   "language": "python",
   "name": "python3"
  },
  "language_info": {
   "codemirror_mode": {
    "name": "ipython",
    "version": 3
   },
   "file_extension": ".py",
   "mimetype": "text/x-python",
   "name": "python",
   "nbconvert_exporter": "python",
   "pygments_lexer": "ipython3",
   "version": "3.11.5"
  }
 },
 "nbformat": 4,
 "nbformat_minor": 5
}
